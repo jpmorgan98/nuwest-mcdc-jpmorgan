{
 "cells": [
  {
   "cell_type": "markdown",
   "id": "85908cd7-1a7a-4bd2-a942-14d306be7dad",
   "metadata": {
    "editable": true,
    "slideshow": {
     "slide_type": "slide"
    },
    "tags": []
   },
   "source": [
    "# [CEMeNT](https://cement-psaap.github.io/) at [NUWEST](https://illinois-ceesd.github.io/nuwest/)\n",
    "Python based Acceleration and Abstraction in Monte Carlo Dynamic Code with Numba\n",
    "\n",
    "[Joanna Piper Morgan](https://jpmorgan98.github.io/)\n",
    "\n",
    "[Center for Exascale Monte Carlo Neutron Transport](https://cement-psaap.github.io/)\n",
    "Oregon State University"
   ]
  },
  {
   "cell_type": "markdown",
   "id": "60180e7b-c4a7-41b9-97fa-d2e3e6433854",
   "metadata": {
    "editable": true,
    "slideshow": {
     "slide_type": "subslide"
    },
    "tags": []
   },
   "source": [
    "## Objectives \n",
    "\n",
    "### Intro (10min)\n",
    "### Python Acceleration and Abstraction with Numba (30 min)\n",
    "Beginner\n",
    "* Compiling a python function using numba `nopython` mode*\n",
    "* Writing a function and using numba `threading` model*\n",
    "* Using NumPy functions in and Numba*\n",
    "\n",
    "Advanced\n",
    "* How a kernel gets compiled\n",
    "* GPU compilations with Numba\n",
    "\n",
    "### MC/DC *Time permitting* (15-20 min)\n",
    "* MC/DC's features for nuclear engineers\n",
    "* Harmonize and what/how it works\n",
    "* Running a problem and visualizing outputs*\n",
    "\n",
    "*live demo in [jupyter notebook]()"
   ]
  },
  {
   "cell_type": "markdown",
   "id": "e8e2731e",
   "metadata": {
    "slideshow": {
     "slide_type": "subslide"
    }
   },
   "source": [
    "# Feel free to:\n",
    "* Ask questions (clarifying or in the weeds are welcome)\n",
    "* Ask for a brief pause to implement what I am doing\n",
    "* Chat with your neighbor for help!"
   ]
  },
  {
   "cell_type": "markdown",
   "id": "059ecc7b-4de6-43ac-bda9-7154e0c2be10",
   "metadata": {
    "editable": true,
    "slideshow": {
     "slide_type": "subslide"
    },
    "tags": []
   },
   "source": [
    "## Some Links \n",
    "Other numba links and tutorials \n",
    "* [A ~5 minute guide to Numba](https://numba.pydata.org/numba-doc/latest/user/5minguide.html)\n",
    "* [The Life of a Numba Kernel: A Compilation Pipeline Taking User Defined Functions in Python to CUDA Kernels](https://medium.com/rapids-ai/the-life-of-a-numba-kernel-a-compilation-pipeline-taking-user-defined-functions-in-python-to-cuda-71cc39b77625)\n",
    "* [Software Carpentry Numba Guide](https://nyu-cds.github.io/python-numba/)\n",
    "* [CUDA by Numba Examples](https://towardsdatascience.com/cuda-by-numba-examples-1-4-e0d06651612f)\n",
    "* [CFD implemented in Numba]()\n",
    "\n",
    "MC/DC links\n",
    "* [MC/DC GitHub](https://github.com/CEMeNT-PSAAP/MCDC)\n",
    "* [MC/DC Release paper](https://arxiv.org/abs/2305.07636)\n",
    "* [How to Install MC/DC](https://cement-psaapgithubio.readthedocs.io/en/latest/install.html)\n",
    "* [Harmonize paper](https://doi.org/10.1145/3626957)\n",
    "* [Harmonize GitHub](https://github.com/CEMeNT-PSAAP/harmonize)\n"
   ]
  },
  {
   "cell_type": "markdown",
   "id": "d046b592",
   "metadata": {
    "slideshow": {
     "slide_type": "subslide"
    }
   },
   "source": [
    "## Prerequisites\n",
    "\n",
    "### Intro\n",
    "* Some Python scripting experience\n",
    "* How to install packages\n",
    "* How to clone a git repo\n",
    "\n",
    "### To follow me into the weeds of Numba and GPUs\n",
    "* Compilers (specifically LLVM)\n",
    "* SIMT and CUDA v ROCm\n",
    "* Thread divergence\n",
    "\n",
    "### To follow me into MC/DC\n",
    "* Clone a repo\n",
    "* run an install script"
   ]
  },
  {
   "cell_type": "markdown",
   "id": "274ca459",
   "metadata": {
    "slideshow": {
     "slide_type": "slide"
    }
   },
   "source": [
    "# Basics of Numba (30min)"
   ]
  },
  {
   "cell_type": "markdown",
   "id": "b5f891a7",
   "metadata": {
    "slideshow": {
     "slide_type": "subslide"
    }
   },
   "source": [
    "## Environment Numba Dependencies\n",
    "\n",
    "For you to follow along if you so desire! Feel free to use the colab sheet if you want a no fuss solution. Or try and set up an environment for your self on your machine (milage may vary)!\n",
    "\n",
    "### Google Colab\n",
    "\n",
    "[No fuss pre-initialized env]()\n",
    "\n",
    "### Pip users\n",
    "\n",
    "```\n",
    "git clone https://github.com/jpmorgan98/nuwest-mcdc-jpmorgan.git\n",
    "cd nuwest-mcdc-jpmorgan\n",
    "pip install numba numpy matplotlib jupyter\n",
    "jupyter-notebook numba_live_demo.ipynb\n",
    "```\n",
    "\n",
    "### Conda users\n",
    "\n",
    "```\n",
    "git clone https://github.com/jpmorgan98/nuwest-mcdc-jpmorgan.git\n",
    "cd nuwest-mcdc-jpmorgan\n",
    "conda create --name numba-demo numba numpy matplotlib jupyter\n",
    "conda activate numba_live_demo.ipynb\n",
    "```\n"
   ]
  },
  {
   "cell_type": "markdown",
   "id": "761767ec",
   "metadata": {
    "slideshow": {
     "slide_type": "subslide"
    }
   },
   "source": [
    "## Writing a Numba function\n",
    "\n",
    "* `nopython` is the keyword to mean \"compiled\"\n",
    "* We have to be careful about typing\n",
    "* Watch out for weird compiler issues"
   ]
  },
  {
   "cell_type": "markdown",
   "id": "72e949a3",
   "metadata": {
    "slideshow": {
     "slide_type": "subslide"
    }
   },
   "source": [
    "## Numba's `threading` model\n",
    "\n",
    "* We can do SIMD type operations to process lots of data quickly\n",
    "* AVX acceleration\n",
    "\n"
   ]
  },
  {
   "cell_type": "markdown",
   "id": "da64f33c",
   "metadata": {
    "slideshow": {
     "slide_type": "subslide"
    }
   },
   "source": [
    "## Using NumPy functions in Numba\n",
    "\n",
    "* Most NumPy functions are already either written in or linking to compiled code\n",
    "* Numba can "
   ]
  },
  {
   "cell_type": "markdown",
   "id": "a7831b32",
   "metadata": {
    "slideshow": {
     "slide_type": "subslide"
    }
   },
   "source": [
    "## Odds and ends\n",
    "\n",
    "* Lots of other compiler commands to know ()\n",
    "* Generation of \n",
    "* Binding other scripts to Numba functions"
   ]
  },
  {
   "cell_type": "markdown",
   "id": "71ff8da5",
   "metadata": {
    "slideshow": {
     "slide_type": "subslide"
    }
   },
   "source": [
    "## Numba's limitations\n",
    "\n",
    "* No true OpenMP type parallelism ()\n",
    "* Dynamic typing is deeply flawed and really not recommended \n",
    "* No GPU operability on AMD or Intel GPUs....yet (work ongoing)\n",
    "* Profiling within Numba kernels is not supported\n",
    "* Very vauge compiler errors\n",
    "* `fastmath` only available for Intel\n",
    "* Can feel pretty hacky once you go past basic operability"
   ]
  },
  {
   "cell_type": "markdown",
   "id": "03c6d600",
   "metadata": {
    "slideshow": {
     "slide_type": "subslide"
    }
   },
   "source": [
    "## Into the Weeds with Numba\n",
    "\n",
    "[Back to the powerpoint](https://github.com/jpmorgan98/nuwest-mcdc-jpmorgan/blob/main/NUWEST_jpmorgan_cement_mcdc.pptx) \n",
    "\n",
    "*for fun animations* `ᕙ(▀̿ĺ̯▀̿ ̿)ᕗ`"
   ]
  },
  {
   "cell_type": "markdown",
   "id": "bb19ec17",
   "metadata": {
    "slideshow": {
     "slide_type": "subslide"
    }
   },
   "source": [
    "## Other Python Accelerators for CPUs and GPUs\n",
    "The world of HPC Python is very exciting!!!!!!\n",
    "* [PyKokkos](https://github.com/kokkos/pykokkos)\n",
    "* [JAX compiler from Google](https://jax.readthedocs.io/en/latest/notebooks/quickstart.html)\n",
    "* [PyCUDA](https://documen.tician.de/pycuda/) and [PyOpenCL](https://documen.tician.de/pyopencl/) (you will have to write CUDA and OpenCL kernels)\n",
    "* [CuPy](https://cupy.dev/)"
   ]
  },
  {
   "cell_type": "markdown",
   "id": "48364be9",
   "metadata": {
    "slideshow": {
     "slide_type": "slide"
    }
   },
   "source": [
    "# Demo and Intro of MC/DC\n",
    "\n",
    "[Back to the powerpoint `(T⌓T)`](https://github.com/jpmorgan98/nuwest-mcdc-jpmorgan/blob/main/NUWEST_jpmorgan_cement_mcdc.pptx) \n",
    "\n"
   ]
  },
  {
   "cell_type": "markdown",
   "id": "64e00430",
   "metadata": {
    "slideshow": {
     "slide_type": "subslide"
    }
   },
   "source": [
    "## Lets run a Python "
   ]
  }
 ],
 "metadata": {
  "kernelspec": {
   "display_name": "Python 3 (ipykernel)",
   "language": "python",
   "name": "python3"
  },
  "language_info": {
   "codemirror_mode": {
    "name": "ipython",
    "version": 3
   },
   "file_extension": ".py",
   "mimetype": "text/x-python",
   "name": "python",
   "nbconvert_exporter": "python",
   "pygments_lexer": "ipython3",
   "version": "3.11.7"
  }
 },
 "nbformat": 4,
 "nbformat_minor": 5
}
