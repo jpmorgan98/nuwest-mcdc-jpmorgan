{
 "cells": [
  {
   "cell_type": "markdown",
   "id": "85908cd7-1a7a-4bd2-a942-14d306be7dad",
   "metadata": {
    "editable": true,
    "slideshow": {
     "slide_type": "slide"
    },
    "tags": []
   },
   "source": [
    "# CEMeNT at NUWEST\n",
    "Python based Acceleration and Abstraction in Monte Carlo Dynamic Code with Numba\n",
    "\n",
    "[Joanna Piper Morgan](https://jpmorgan98.github.io/)\n",
    "\n",
    "[Center for Exascale Monte Carlo Neutron Transport](https://cement-psaap.github.io/)\n",
    "Oregon State University"
   ]
  },
  {
   "cell_type": "markdown",
   "id": "60180e7b-c4a7-41b9-97fa-d2e3e6433854",
   "metadata": {
    "editable": true,
    "slideshow": {
     "slide_type": "subslide"
    },
    "tags": []
   },
   "source": [
    "## Lesson Objectives \n",
    "\n",
    "### Python Acceleration and Abstraction with Numba\n",
    "* Basic compilation structure of Numba\n",
    "* Numba `nopython` mode\n",
    "* NumPy and Numba\n",
    "* Live Code Demo ()\n",
    "* GPU compilations with Numba*\n",
    "\n",
    "### MC/DC (Power Point)\n",
    "* MC/DC's features\n",
    "* MC/DC \n",
    "* Harmonize integration\n",
    "* \n"
   ]
  },
  {
   "cell_type": "markdown",
   "id": "059ecc7b-4de6-43ac-bda9-7154e0c2be10",
   "metadata": {
    "editable": true,
    "slideshow": {
     "slide_type": "subslide"
    },
    "tags": []
   },
   "source": [
    "## Some Links  \n",
    "* [Getting started with Numba]()\n",
    "* [Basics of GPU computations]()\n",
    "* [Numba release paper]()\n",
    "* [MC/DC GitHub]()\n",
    "* [MC/DC Release paper]()\n",
    "* [Harmonize paper]()\n",
    "* [Harmonize GitHub]()\n"
   ]
  },
  {
   "cell_type": "markdown",
   "id": "d046b592",
   "metadata": {},
   "source": [
    "# Python Acceleration and Abstraction with Numba\n"
   ]
  }
 ],
 "metadata": {
  "kernelspec": {
   "display_name": "Python 3 (ipykernel)",
   "language": "python",
   "name": "python3"
  },
  "language_info": {
   "codemirror_mode": {
    "name": "ipython",
    "version": 3
   },
   "file_extension": ".py",
   "mimetype": "text/x-python",
   "name": "python",
   "nbconvert_exporter": "python",
   "pygments_lexer": "ipython3",
   "version": "3.11.7"
  }
 },
 "nbformat": 4,
 "nbformat_minor": 5
}
