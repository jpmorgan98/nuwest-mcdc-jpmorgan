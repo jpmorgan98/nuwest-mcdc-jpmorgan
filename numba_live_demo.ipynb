{
 "cells": [
  {
   "cell_type": "markdown",
   "id": "85908cd7-1a7a-4bd2-a942-14d306be7dad",
   "metadata": {
    "editable": true,
    "slideshow": {
     "slide_type": "slide"
    },
    "tags": []
   },
   "source": [
    "# CEMeNT at NUWEST\n",
    "Numba and MC/DC Demo! Live demos and be fraught....bear with me!\n",
    "\n",
    "[Joanna Piper Morgan](https://jpmorgan98.github.io/)\n",
    "\n",
    "[Center for Exascale Monte Carlo Neutron Transport](https://cement-psaap.github.io/)\n",
    "Oregon State University\n",
    "\n",
    "[Presentation Slides!](https://jpmorgan98.github.io/nuwest-mcdc-jpmorgan/nuwest_demo.slides.html#/)"
   ]
  },
  {
   "cell_type": "code",
   "execution_count": null,
   "id": "8637ed0b",
   "metadata": {},
   "outputs": [],
   "source": [
    "import numpy as np\n",
    "import numba"
   ]
  }
 ],
 "metadata": {
  "kernelspec": {
   "display_name": "Python 3 (ipykernel)",
   "language": "python",
   "name": "python3"
  },
  "language_info": {
   "codemirror_mode": {
    "name": "ipython",
    "version": 3
   },
   "file_extension": ".py",
   "mimetype": "text/x-python",
   "name": "python",
   "nbconvert_exporter": "python",
   "pygments_lexer": "ipython3",
   "version": "3.11.7"
  }
 },
 "nbformat": 4,
 "nbformat_minor": 5
}
