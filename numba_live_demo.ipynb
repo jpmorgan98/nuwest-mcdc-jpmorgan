{
 "cells": [
  {
   "cell_type": "markdown",
   "id": "85908cd7-1a7a-4bd2-a942-14d306be7dad",
   "metadata": {
    "editable": true,
    "slideshow": {
     "slide_type": "slide"
    },
    "tags": []
   },
   "source": [
    "# CEMeNT at NUWEST\n",
    "Numba and MC/DC Demo! Live demos and be fraught....bear with me!\n",
    "\n",
    "[Joanna Piper Morgan](https://jpmorgan98.github.io/)\n",
    "\n",
    "[Center for Exascale Monte Carlo Neutron Transport](https://cement-psaap.github.io/)\n",
    "Oregon State University\n",
    "\n",
    "[Presentation Slides!](https://jpmorgan98.github.io/nuwest-mcdc-jpmorgan/nuwest_demo.slides.html#/)"
   ]
  },
  {
   "cell_type": "markdown",
   "id": "30a5b49b",
   "metadata": {},
   "source": [
    "# Numba Demo"
   ]
  },
  {
   "cell_type": "code",
   "execution_count": 82,
   "id": "cdbff9c4",
   "metadata": {},
   "outputs": [
    {
     "name": "stdout",
     "output_type": "stream",
     "text": [
      "Requirement already satisfied: numba in /opt/homebrew/Caskroom/mambaforge/base/envs/mcdc-env/lib/python3.11/site-packages (0.57.1)\n",
      "Requirement already satisfied: llvmlite<0.41,>=0.40.0dev0 in /opt/homebrew/Caskroom/mambaforge/base/envs/mcdc-env/lib/python3.11/site-packages (from numba) (0.40.1)\n",
      "Requirement already satisfied: numpy<1.25,>=1.21 in /opt/homebrew/Caskroom/mambaforge/base/envs/mcdc-env/lib/python3.11/site-packages (from numba) (1.24.4)\n"
     ]
    }
   ],
   "source": [
    "# install numba\n",
    "!pip install numba"
   ]
  },
  {
   "cell_type": "code",
   "execution_count": 113,
   "id": "8637ed0b",
   "metadata": {},
   "outputs": [],
   "source": [
    "# imports\n",
    "import numpy as np\n",
    "import numba\n",
    "import math\n",
    "import timeit"
   ]
  },
  {
   "cell_type": "markdown",
   "id": "b95b6af4",
   "metadata": {},
   "source": [
    "## NoPython\n",
    "No python can be used to accelerate functions that computationally demanding. It uses a compilation path to lower python code into LLVM-IR, optimize it, then compile to a specific hardware target. The `@jit(nopython=ture)` or `njit` decorator will both do this compilation"
   ]
  },
  {
   "cell_type": "code",
   "execution_count": 108,
   "id": "7dacaaaf",
   "metadata": {},
   "outputs": [
    {
     "name": "stdout",
     "output_type": "stream",
     "text": [
      "Python = 0.4754631519317627\n",
      "Python + Numba = 0.1358809471130371\n"
     ]
    }
   ],
   "source": [
    "from numba import jit\n",
    "import numpy as np\n",
    "import time\n",
    "\n",
    "\n",
    "N = 10000\n",
    "x = np.arange(N*N).reshape(N, N)\n",
    "\n",
    "@jit(nopython=True) # Set \"nopython\" mode for best performance, equivalent to @njit\n",
    "def go_fast(a): # Function is compiled to machine code when called the first time\n",
    "    trace = 0.0\n",
    "    for i in range(a.shape[0]):   # Numba likes loops\n",
    "        trace += np.tanh(a[i, i]) # Numba likes NumPy functions\n",
    "    return a + trace              # Numba likes NumPy broadcasting\n",
    "\n",
    "def go_slow(a): # Function is compiled to machine code when called the first time\n",
    "    trace = 0.0\n",
    "    for i in range(a.shape[0]):   # Numba likes loops\n",
    "        trace += np.tanh(a[i, i]) # Numba likes NumPy functions\n",
    "    return a + trace              # Numba likes NumPy broadcasting\n",
    "\n",
    "start = time.time()\n",
    "go_slow(x)\n",
    "end = time.time()\n",
    "print(\"Python = %s\" % (end - start))\n",
    "\n",
    "start = time.time()\n",
    "go_fast(x)\n",
    "end = time.time()\n",
    "print(\"Python + Numba = %s\" % (end - start))"
   ]
  },
  {
   "cell_type": "code",
   "execution_count": 103,
   "id": "527f0a92",
   "metadata": {},
   "outputs": [
    {
     "data": {
      "text/plain": [
       "3.04"
      ]
     },
     "execution_count": 103,
     "metadata": {},
     "output_type": "execute_result"
    }
   ],
   "source": [
    "import numba\n",
    "from random import *\n",
    "import math\n",
    "from math import sqrt\n",
    "\n",
    "N = int(1e2)\n",
    "\n",
    "def compute_pi(N): \n",
    "    inside = 0\n",
    "    for i in range(0,N):\n",
    "        x=random()\n",
    "        y=random()\n",
    "        if sqrt(x*x+y*y)<=1:\n",
    "            inside+=1\n",
    "    pi=4*inside/N \n",
    "    return pi\n",
    "\n",
    "compute_pi(N)\n",
    "\n",
    "compute_pi_fast = numba.jit(\n",
    "\n",
    "#@numba.jit(nopython=True)\n"
   ]
  },
  {
   "cell_type": "code",
   "execution_count": 122,
   "id": "96a6d0ef",
   "metadata": {},
   "outputs": [
    {
     "name": "stdout",
     "output_type": "stream",
     "text": [
      "475 ns ± 0.761 ns per loop (mean ± std. dev. of 7 runs, 1,000,000 loops each)\n"
     ]
    }
   ],
   "source": [
    "\n",
    "\n",
    "a = np.ones((1, 100), dtype=np.float64)\n",
    "b = np.ones((100, 1), dtype=np.float64)\n",
    "\n",
    "\n",
    "#\n",
    "# Simple Python function\n",
    "#\n",
    "\n",
    "def func(a, b):\n",
    "  for i in range(100000):\n",
    "    constant = math.pow((a@b)[0][0], 1./2)/math.exp((a@b)[0][0]/1000)\n",
    "    a = np.array([[constant]*100], dtype=np.float64)\n",
    "  return a\n",
    "\n",
    "#\n",
    "# Numba with nopython = True\n",
    "#\n",
    "@numba.njit      # or @jit(nopython=True)\n",
    "def njit_func(a, b):\n",
    "  for i in range(100000):\n",
    "    constant = math.pow((a@b)[0][0], 1./2)/math.exp((a@b)[0][0]/1000)\n",
    "    a = np.array([[constant]*100], dtype=np.float64)\n",
    "  return a\n",
    "\n",
    "\n",
    "\n",
    "#\n",
    "# Basic Numba compiler with type information provided\n",
    "#\n",
    "\n",
    "@numba.jit('float64(float64, float64)', nopython=True)\n",
    "def jit_func_(a, b):\n",
    "  for i in range(100000):\n",
    "    constant = math.pow((a@b)[0][0], 1./2)/math.exp((a@b)[0][0]/1000)\n",
    "    a = np.array([[constant]*100], dtype=np.float64)\n",
    "  return a\n",
    "\n",
    "\n",
    "print('jit with type information about')\n",
    "%timeit for x in range(100): \"func(a, b)\"\n",
    "\n",
    "print('jit with type information about')\n",
    "%timeit for x in range(100): \"func(a, b)\"\n",
    "\n",
    "print('jit with type information about')\n",
    "%timeit for x in range(100): \"func(a, b)\"\n"
   ]
  },
  {
   "cell_type": "markdown",
   "id": "19bf8327",
   "metadata": {},
   "source": [
    "## [Parallel loops](https://numba.readthedocs.io/en/stable/user/parallel.html#)\n",
    "If we use the proper compiled commands Numba will try and automatically parallelize operations for us. We can also explicitly declare parallel loops. For [threading options see](https://numba.readthedocs.io/en/stable/user/threading-layer.html)"
   ]
  },
  {
   "cell_type": "code",
   "execution_count": 73,
   "id": "ba03cc8d",
   "metadata": {},
   "outputs": [
    {
     "name": "stdout",
     "output_type": "stream",
     "text": [
      "howdy from thread, howdy from thread,  8  where i is,  16\n",
      "howdy from thread,  8  where i is,  17\n",
      "howdy from thread,  3  where i is,  6\n",
      "howdy from thread,  3  where i is,  7\n",
      "howdy from thread,  2  where i is,  4\n",
      "howdy from thread,  2  where i is,  5\n",
      "howdy from thread,  7  where i is,  14\n",
      "howdy from thread,  7  where i is,  15\n",
      " 0  where i is,  0\n",
      "howdy from thread,  0  where i is,  1\n",
      "howdy from thread,  1  where i is,  2\n",
      "howdy from thread,  1  where i is,  3\n",
      "howdy from thread,  9  where i is,  18\n",
      "howdy from thread,  9  where i is,  19\n",
      "howdy from thread,  6  where i is,  12\n",
      "howdy from thread,  6  where i is,  13\n",
      "howdy from thread,  4  where i is,  8\n",
      "howdy from thread,  4  where i is,  9\n",
      "howdy from thread,  5  where i is,  10\n",
      "howdy from thread,  5  where i is,  11\n"
     ]
    }
   ],
   "source": [
    "\n",
    "\n",
    "@numba.jit(nopython=True, parallel=True, cache=False)\n",
    "def hello_parallel_world():\n",
    "    for i in numba.prange(20):\n",
    "        print(\"howdy from thread, \",  numba.get_thread_id(), \" where i is, \", i )\n",
    "\n",
    "hello_parallel_world()"
   ]
  },
  {
   "cell_type": "code",
   "execution_count": 34,
   "id": "07a56597",
   "metadata": {},
   "outputs": [],
   "source": [
    "\n",
    "# allocate a mat\n",
    "\n",
    "\n",
    "# \n",
    "\n",
    "#def parallel_solve()\n",
    "\n"
   ]
  },
  {
   "cell_type": "markdown",
   "id": "dffed3f0",
   "metadata": {},
   "source": [
    "## Numpy functions\n",
    "\n",
    "We can use [Numpy](https://numpy.org/) functions within our numba code to compile the whole process. This is great for data processing or linear algebra type workflows!\n",
    "\n",
    "*Be sure to disable threads for NumPy subpackages if this is part of a threading operation*"
   ]
  },
  {
   "cell_type": "code",
   "execution_count": null,
   "id": "077527c7",
   "metadata": {},
   "outputs": [],
   "source": []
  },
  {
   "cell_type": "markdown",
   "id": "f0faf20f",
   "metadata": {},
   "source": [
    "## Some *funny* behavior"
   ]
  },
  {
   "cell_type": "code",
   "execution_count": 71,
   "id": "e5b26c91",
   "metadata": {},
   "outputs": [
    {
     "ename": "TypingError",
     "evalue": "Failed in nopython mode pipeline (step: nopython frontend)\n\u001b[1m\u001b[1m\u001b[1mNo implementation of function Function(<built-in function zeros>) found for signature:\n \n >>> zeros(list(int64)<iv=[10, 10]>)\n \nThere are 2 candidate implementations:\n\u001b[1m      - Of which 1 did not match due to:\n      Overload in function 'ol_np_zeros': File: numba/np/arrayobj.py: Line 4317.\n        With argument(s): '(list(int64)<iv=None>)':\u001b[0m\n\u001b[1m       Rejected as the implementation raised a specific error:\n         TypingError: Failed in nopython mode pipeline (step: nopython frontend)\n       \u001b[1m\u001b[1m\u001b[1mNo implementation of function Function(<built-in function empty>) found for signature:\n        \n        >>> empty(list(int64)<iv=None>, dtype=Function(<class 'float'>))\n        \n       There are 2 candidate implementations:\n       \u001b[1m      - Of which 2 did not match due to:\n             Overload in function 'ol_np_empty': File: numba/np/arrayobj.py: Line 4239.\n               With argument(s): '(list(int64)<iv=None>, dtype=Function(<class 'float'>))':\u001b[0m\n       \u001b[1m       Rejected as the implementation raised a specific error:\n                TypingError: \u001b[1mCannot parse input types to function np.empty(list(int64)<iv=None>, Function(<class 'float'>))\u001b[0m\u001b[0m\n         raised from /opt/homebrew/Caskroom/mambaforge/base/envs/mcdc-env/lib/python3.11/site-packages/numba/np/arrayobj.py:4258\n       \u001b[0m\n       \u001b[0m\u001b[1mDuring: resolving callee type: Function(<built-in function empty>)\u001b[0m\n       \u001b[0m\u001b[1mDuring: typing of call at /opt/homebrew/Caskroom/mambaforge/base/envs/mcdc-env/lib/python3.11/site-packages/numba/np/arrayobj.py (4322)\n       \u001b[0m\n       \u001b[1m\n       File \"../../../../opt/homebrew/Caskroom/mambaforge/base/envs/mcdc-env/lib/python3.11/site-packages/numba/np/arrayobj.py\", line 4322:\u001b[0m\n       \u001b[1m    def impl(shape, dtype=float):\n       \u001b[1m        arr = np.empty(shape, dtype=dtype)\n       \u001b[0m        \u001b[1m^\u001b[0m\u001b[0m\n\u001b[0m\n  raised from /opt/homebrew/Caskroom/mambaforge/base/envs/mcdc-env/lib/python3.11/site-packages/numba/core/typeinfer.py:1086\n\u001b[1m      - Of which 1 did not match due to:\n      Overload in function 'ol_np_zeros': File: numba/np/arrayobj.py: Line 4317.\n        With argument(s): '(list(int64)<iv=[10, 10]>)':\u001b[0m\n\u001b[1m       Rejected as the implementation raised a specific error:\n         TypingError: Failed in nopython mode pipeline (step: nopython frontend)\n       \u001b[1m\u001b[1m\u001b[1mNo implementation of function Function(<built-in function empty>) found for signature:\n        \n        >>> empty(list(int64)<iv=[10, 10]>, dtype=Function(<class 'float'>))\n        \n       There are 2 candidate implementations:\n       \u001b[1m      - Of which 1 did not match due to:\n             Overload in function 'ol_np_empty': File: numba/np/arrayobj.py: Line 4239.\n               With argument(s): '(list(int64)<iv=None>, dtype=Function(<class 'float'>))':\u001b[0m\n       \u001b[1m       Rejected as the implementation raised a specific error:\n                TypingError: \u001b[1mCannot parse input types to function np.empty(list(int64)<iv=None>, Function(<class 'float'>))\u001b[0m\u001b[0m\n         raised from /opt/homebrew/Caskroom/mambaforge/base/envs/mcdc-env/lib/python3.11/site-packages/numba/np/arrayobj.py:4258\n       \u001b[1m      - Of which 1 did not match due to:\n             Overload in function 'ol_np_empty': File: numba/np/arrayobj.py: Line 4239.\n               With argument(s): '(list(int64)<iv=[10, 10]>, dtype=Function(<class 'float'>))':\u001b[0m\n       \u001b[1m       Rejected as the implementation raised a specific error:\n                TypingError: \u001b[1mCannot parse input types to function np.empty(list(int64)<iv=[10, 10]>, Function(<class 'float'>))\u001b[0m\u001b[0m\n         raised from /opt/homebrew/Caskroom/mambaforge/base/envs/mcdc-env/lib/python3.11/site-packages/numba/np/arrayobj.py:4258\n       \u001b[0m\n       \u001b[0m\u001b[1mDuring: resolving callee type: Function(<built-in function empty>)\u001b[0m\n       \u001b[0m\u001b[1mDuring: typing of call at /opt/homebrew/Caskroom/mambaforge/base/envs/mcdc-env/lib/python3.11/site-packages/numba/np/arrayobj.py (4322)\n       \u001b[0m\n       \u001b[1m\n       File \"../../../../opt/homebrew/Caskroom/mambaforge/base/envs/mcdc-env/lib/python3.11/site-packages/numba/np/arrayobj.py\", line 4322:\u001b[0m\n       \u001b[1m    def impl(shape, dtype=float):\n       \u001b[1m        arr = np.empty(shape, dtype=dtype)\n       \u001b[0m        \u001b[1m^\u001b[0m\u001b[0m\n\u001b[0m\n  raised from /opt/homebrew/Caskroom/mambaforge/base/envs/mcdc-env/lib/python3.11/site-packages/numba/core/typeinfer.py:1086\n\u001b[0m\n\u001b[0m\u001b[1mDuring: resolving callee type: Function(<built-in function zeros>)\u001b[0m\n\u001b[0m\u001b[1mDuring: typing of call at /var/folders/t_/2l4lwvkn537dkvrfy5xmkvc80000gn/T/ipykernel_95904/772786714.py (3)\n\u001b[0m\n\u001b[1m\nFile \"../../../../var/folders/t_/2l4lwvkn537dkvrfy5xmkvc80000gn/T/ipykernel_95904/772786714.py\", line 3:\u001b[0m\n\u001b[1m<source missing, REPL/exec in use?>\u001b[0m\n",
     "output_type": "error",
     "traceback": [
      "\u001b[0;31m---------------------------------------------------------------------------\u001b[0m",
      "\u001b[0;31mTypingError\u001b[0m                               Traceback (most recent call last)",
      "\u001b[1;32m/Users/jonesy/workspace/nuwest-mcdc-jpmorgan/numba_live_demo.ipynb Cell 13\u001b[0m line \u001b[0;36m5\n\u001b[1;32m      <a href='vscode-notebook-cell:/Users/jonesy/workspace/nuwest-mcdc-jpmorgan/numba_live_demo.ipynb#X13sZmlsZQ%3D%3D?line=0'>1</a>\u001b[0m \u001b[39m@numba\u001b[39m\u001b[39m.\u001b[39mnjit\n\u001b[1;32m      <a href='vscode-notebook-cell:/Users/jonesy/workspace/nuwest-mcdc-jpmorgan/numba_live_demo.ipynb#X13sZmlsZQ%3D%3D?line=1'>2</a>\u001b[0m \u001b[39mdef\u001b[39;00m \u001b[39mgonna_error\u001b[39m():\n\u001b[1;32m      <a href='vscode-notebook-cell:/Users/jonesy/workspace/nuwest-mcdc-jpmorgan/numba_live_demo.ipynb#X13sZmlsZQ%3D%3D?line=2'>3</a>\u001b[0m     zeros \u001b[39m=\u001b[39m np\u001b[39m.\u001b[39mzeros([\u001b[39m10\u001b[39m,\u001b[39m10\u001b[39m]) \u001b[39m#switch the brackets to parentheses\u001b[39;00m\n\u001b[0;32m----> <a href='vscode-notebook-cell:/Users/jonesy/workspace/nuwest-mcdc-jpmorgan/numba_live_demo.ipynb#X13sZmlsZQ%3D%3D?line=4'>5</a>\u001b[0m gonna_error()\n",
      "File \u001b[0;32m/opt/homebrew/Caskroom/mambaforge/base/envs/mcdc-env/lib/python3.11/site-packages/numba/core/dispatcher.py:468\u001b[0m, in \u001b[0;36m_DispatcherBase._compile_for_args\u001b[0;34m(self, *args, **kws)\u001b[0m\n\u001b[1;32m    464\u001b[0m         msg \u001b[39m=\u001b[39m (\u001b[39mf\u001b[39m\u001b[39m\"\u001b[39m\u001b[39m{\u001b[39;00m\u001b[39mstr\u001b[39m(e)\u001b[39m.\u001b[39mrstrip()\u001b[39m}\u001b[39;00m\u001b[39m \u001b[39m\u001b[39m\\n\u001b[39;00m\u001b[39m\\n\u001b[39;00m\u001b[39mThis error may have been caused \u001b[39m\u001b[39m\"\u001b[39m\n\u001b[1;32m    465\u001b[0m                \u001b[39mf\u001b[39m\u001b[39m\"\u001b[39m\u001b[39mby the following argument(s):\u001b[39m\u001b[39m\\n\u001b[39;00m\u001b[39m{\u001b[39;00margs_str\u001b[39m}\u001b[39;00m\u001b[39m\\n\u001b[39;00m\u001b[39m\"\u001b[39m)\n\u001b[1;32m    466\u001b[0m         e\u001b[39m.\u001b[39mpatch_message(msg)\n\u001b[0;32m--> 468\u001b[0m     error_rewrite(e, \u001b[39m'\u001b[39;49m\u001b[39mtyping\u001b[39;49m\u001b[39m'\u001b[39;49m)\n\u001b[1;32m    469\u001b[0m \u001b[39mexcept\u001b[39;00m errors\u001b[39m.\u001b[39mUnsupportedError \u001b[39mas\u001b[39;00m e:\n\u001b[1;32m    470\u001b[0m     \u001b[39m# Something unsupported is present in the user code, add help info\u001b[39;00m\n\u001b[1;32m    471\u001b[0m     error_rewrite(e, \u001b[39m'\u001b[39m\u001b[39munsupported_error\u001b[39m\u001b[39m'\u001b[39m)\n",
      "File \u001b[0;32m/opt/homebrew/Caskroom/mambaforge/base/envs/mcdc-env/lib/python3.11/site-packages/numba/core/dispatcher.py:409\u001b[0m, in \u001b[0;36m_DispatcherBase._compile_for_args.<locals>.error_rewrite\u001b[0;34m(e, issue_type)\u001b[0m\n\u001b[1;32m    407\u001b[0m     \u001b[39mraise\u001b[39;00m e\n\u001b[1;32m    408\u001b[0m \u001b[39melse\u001b[39;00m:\n\u001b[0;32m--> 409\u001b[0m     \u001b[39mraise\u001b[39;00m e\u001b[39m.\u001b[39mwith_traceback(\u001b[39mNone\u001b[39;00m)\n",
      "\u001b[0;31mTypingError\u001b[0m: Failed in nopython mode pipeline (step: nopython frontend)\n\u001b[1m\u001b[1m\u001b[1mNo implementation of function Function(<built-in function zeros>) found for signature:\n \n >>> zeros(list(int64)<iv=[10, 10]>)\n \nThere are 2 candidate implementations:\n\u001b[1m      - Of which 1 did not match due to:\n      Overload in function 'ol_np_zeros': File: numba/np/arrayobj.py: Line 4317.\n        With argument(s): '(list(int64)<iv=None>)':\u001b[0m\n\u001b[1m       Rejected as the implementation raised a specific error:\n         TypingError: Failed in nopython mode pipeline (step: nopython frontend)\n       \u001b[1m\u001b[1m\u001b[1mNo implementation of function Function(<built-in function empty>) found for signature:\n        \n        >>> empty(list(int64)<iv=None>, dtype=Function(<class 'float'>))\n        \n       There are 2 candidate implementations:\n       \u001b[1m      - Of which 2 did not match due to:\n             Overload in function 'ol_np_empty': File: numba/np/arrayobj.py: Line 4239.\n               With argument(s): '(list(int64)<iv=None>, dtype=Function(<class 'float'>))':\u001b[0m\n       \u001b[1m       Rejected as the implementation raised a specific error:\n                TypingError: \u001b[1mCannot parse input types to function np.empty(list(int64)<iv=None>, Function(<class 'float'>))\u001b[0m\u001b[0m\n         raised from /opt/homebrew/Caskroom/mambaforge/base/envs/mcdc-env/lib/python3.11/site-packages/numba/np/arrayobj.py:4258\n       \u001b[0m\n       \u001b[0m\u001b[1mDuring: resolving callee type: Function(<built-in function empty>)\u001b[0m\n       \u001b[0m\u001b[1mDuring: typing of call at /opt/homebrew/Caskroom/mambaforge/base/envs/mcdc-env/lib/python3.11/site-packages/numba/np/arrayobj.py (4322)\n       \u001b[0m\n       \u001b[1m\n       File \"../../../../opt/homebrew/Caskroom/mambaforge/base/envs/mcdc-env/lib/python3.11/site-packages/numba/np/arrayobj.py\", line 4322:\u001b[0m\n       \u001b[1m    def impl(shape, dtype=float):\n       \u001b[1m        arr = np.empty(shape, dtype=dtype)\n       \u001b[0m        \u001b[1m^\u001b[0m\u001b[0m\n\u001b[0m\n  raised from /opt/homebrew/Caskroom/mambaforge/base/envs/mcdc-env/lib/python3.11/site-packages/numba/core/typeinfer.py:1086\n\u001b[1m      - Of which 1 did not match due to:\n      Overload in function 'ol_np_zeros': File: numba/np/arrayobj.py: Line 4317.\n        With argument(s): '(list(int64)<iv=[10, 10]>)':\u001b[0m\n\u001b[1m       Rejected as the implementation raised a specific error:\n         TypingError: Failed in nopython mode pipeline (step: nopython frontend)\n       \u001b[1m\u001b[1m\u001b[1mNo implementation of function Function(<built-in function empty>) found for signature:\n        \n        >>> empty(list(int64)<iv=[10, 10]>, dtype=Function(<class 'float'>))\n        \n       There are 2 candidate implementations:\n       \u001b[1m      - Of which 1 did not match due to:\n             Overload in function 'ol_np_empty': File: numba/np/arrayobj.py: Line 4239.\n               With argument(s): '(list(int64)<iv=None>, dtype=Function(<class 'float'>))':\u001b[0m\n       \u001b[1m       Rejected as the implementation raised a specific error:\n                TypingError: \u001b[1mCannot parse input types to function np.empty(list(int64)<iv=None>, Function(<class 'float'>))\u001b[0m\u001b[0m\n         raised from /opt/homebrew/Caskroom/mambaforge/base/envs/mcdc-env/lib/python3.11/site-packages/numba/np/arrayobj.py:4258\n       \u001b[1m      - Of which 1 did not match due to:\n             Overload in function 'ol_np_empty': File: numba/np/arrayobj.py: Line 4239.\n               With argument(s): '(list(int64)<iv=[10, 10]>, dtype=Function(<class 'float'>))':\u001b[0m\n       \u001b[1m       Rejected as the implementation raised a specific error:\n                TypingError: \u001b[1mCannot parse input types to function np.empty(list(int64)<iv=[10, 10]>, Function(<class 'float'>))\u001b[0m\u001b[0m\n         raised from /opt/homebrew/Caskroom/mambaforge/base/envs/mcdc-env/lib/python3.11/site-packages/numba/np/arrayobj.py:4258\n       \u001b[0m\n       \u001b[0m\u001b[1mDuring: resolving callee type: Function(<built-in function empty>)\u001b[0m\n       \u001b[0m\u001b[1mDuring: typing of call at /opt/homebrew/Caskroom/mambaforge/base/envs/mcdc-env/lib/python3.11/site-packages/numba/np/arrayobj.py (4322)\n       \u001b[0m\n       \u001b[1m\n       File \"../../../../opt/homebrew/Caskroom/mambaforge/base/envs/mcdc-env/lib/python3.11/site-packages/numba/np/arrayobj.py\", line 4322:\u001b[0m\n       \u001b[1m    def impl(shape, dtype=float):\n       \u001b[1m        arr = np.empty(shape, dtype=dtype)\n       \u001b[0m        \u001b[1m^\u001b[0m\u001b[0m\n\u001b[0m\n  raised from /opt/homebrew/Caskroom/mambaforge/base/envs/mcdc-env/lib/python3.11/site-packages/numba/core/typeinfer.py:1086\n\u001b[0m\n\u001b[0m\u001b[1mDuring: resolving callee type: Function(<built-in function zeros>)\u001b[0m\n\u001b[0m\u001b[1mDuring: typing of call at /var/folders/t_/2l4lwvkn537dkvrfy5xmkvc80000gn/T/ipykernel_95904/772786714.py (3)\n\u001b[0m\n\u001b[1m\nFile \"../../../../var/folders/t_/2l4lwvkn537dkvrfy5xmkvc80000gn/T/ipykernel_95904/772786714.py\", line 3:\u001b[0m\n\u001b[1m<source missing, REPL/exec in use?>\u001b[0m\n"
     ]
    }
   ],
   "source": [
    "@numba.njit\n",
    "def gonna_error():\n",
    "    zeros = np.zeros([10,10]) #switch the brackets to parentheses\n",
    "\n",
    "gonna_error()"
   ]
  },
  {
   "cell_type": "code",
   "execution_count": 67,
   "id": "7a732c2c",
   "metadata": {},
   "outputs": [
    {
     "ename": "TypingError",
     "evalue": "Failed in nopython mode pipeline (step: nopython frontend)\n\u001b[1m\u001b[1mNo implementation of function Function(<built-in function iadd>) found for signature:\n \n >>> iadd(array(int16, 1d, C), float64)\n \nThere are 18 candidate implementations:\n\u001b[1m    - Of which 14 did not match due to:\n    Overload of function 'iadd': File: <numerous>: Line N/A.\n      With argument(s): '(array(int16, 1d, C), float64)':\u001b[0m\n\u001b[1m     No match.\u001b[0m\n\u001b[1m    - Of which 2 did not match due to:\n    Overload in function 'NumpyRulesInplaceArrayOperator.generic': File: numba/core/typing/npydecl.py: Line 243.\n      With argument(s): '(array(int16, 1d, C), float64)':\u001b[0m\n\u001b[1m     Rejected as the implementation raised a specific error:\n       AttributeError: 'NoneType' object has no attribute 'args'\u001b[0m\n  raised from /opt/homebrew/Caskroom/mambaforge/base/envs/mcdc-env/lib/python3.11/site-packages/numba/core/typing/npydecl.py:254\n\u001b[1m    - Of which 2 did not match due to:\n    Operator Overload in function 'iadd': File: unknown: Line unknown.\n      With argument(s): '(array(int16, 1d, C), float64)':\u001b[0m\n\u001b[1m     No match for registered cases:\n      * (int64, int64) -> int64\n      * (int64, uint64) -> int64\n      * (uint64, int64) -> int64\n      * (uint64, uint64) -> uint64\n      * (float32, float32) -> float32\n      * (float64, float64) -> float64\n      * (complex64, complex64) -> complex64\n      * (complex128, complex128) -> complex128\u001b[0m\n\u001b[0m\n\u001b[0m\u001b[1mDuring: typing of intrinsic-call at /var/folders/t_/2l4lwvkn537dkvrfy5xmkvc80000gn/T/ipykernel_95904/1520117414.py (8)\u001b[0m\n\u001b[1m\nFile \"../../../../var/folders/t_/2l4lwvkn537dkvrfy5xmkvc80000gn/T/ipykernel_95904/1520117414.py\", line 8:\u001b[0m\n\u001b[1m<source missing, REPL/exec in use?>\u001b[0m\n",
     "output_type": "error",
     "traceback": [
      "\u001b[0;31m---------------------------------------------------------------------------\u001b[0m",
      "\u001b[0;31mTypingError\u001b[0m                               Traceback (most recent call last)",
      "\u001b[1;32m/Users/jonesy/workspace/nuwest-mcdc-jpmorgan/numba_live_demo.ipynb Cell 14\u001b[0m line \u001b[0;36m1\n\u001b[1;32m      <a href='vscode-notebook-cell:/Users/jonesy/workspace/nuwest-mcdc-jpmorgan/numba_live_demo.ipynb#X33sZmlsZQ%3D%3D?line=6'>7</a>\u001b[0m     \u001b[39mfor\u001b[39;00m i \u001b[39min\u001b[39;00m \u001b[39mrange\u001b[39m (numpy_array_in_float32\u001b[39m.\u001b[39msize):\n\u001b[1;32m      <a href='vscode-notebook-cell:/Users/jonesy/workspace/nuwest-mcdc-jpmorgan/numba_live_demo.ipynb#X33sZmlsZQ%3D%3D?line=7'>8</a>\u001b[0m         out \u001b[39m+\u001b[39m\u001b[39m=\u001b[39m numpy_array_in_float32[i] \u001b[39m+\u001b[39m numpy_array_in_float64[i]\n\u001b[0;32m---> <a href='vscode-notebook-cell:/Users/jonesy/workspace/nuwest-mcdc-jpmorgan/numba_live_demo.ipynb#X33sZmlsZQ%3D%3D?line=9'>10</a>\u001b[0m gonna_error_2(numpy_array_in_float32, numpy_array_in_float64, out)\n\u001b[1;32m     <a href='vscode-notebook-cell:/Users/jonesy/workspace/nuwest-mcdc-jpmorgan/numba_live_demo.ipynb#X33sZmlsZQ%3D%3D?line=11'>12</a>\u001b[0m \u001b[39mprint\u001b[39m(out\u001b[39m.\u001b[39mdtype)\n",
      "File \u001b[0;32m/opt/homebrew/Caskroom/mambaforge/base/envs/mcdc-env/lib/python3.11/site-packages/numba/core/dispatcher.py:468\u001b[0m, in \u001b[0;36m_DispatcherBase._compile_for_args\u001b[0;34m(self, *args, **kws)\u001b[0m\n\u001b[1;32m    464\u001b[0m         msg \u001b[39m=\u001b[39m (\u001b[39mf\u001b[39m\u001b[39m\"\u001b[39m\u001b[39m{\u001b[39;00m\u001b[39mstr\u001b[39m(e)\u001b[39m.\u001b[39mrstrip()\u001b[39m}\u001b[39;00m\u001b[39m \u001b[39m\u001b[39m\\n\u001b[39;00m\u001b[39m\\n\u001b[39;00m\u001b[39mThis error may have been caused \u001b[39m\u001b[39m\"\u001b[39m\n\u001b[1;32m    465\u001b[0m                \u001b[39mf\u001b[39m\u001b[39m\"\u001b[39m\u001b[39mby the following argument(s):\u001b[39m\u001b[39m\\n\u001b[39;00m\u001b[39m{\u001b[39;00margs_str\u001b[39m}\u001b[39;00m\u001b[39m\\n\u001b[39;00m\u001b[39m\"\u001b[39m)\n\u001b[1;32m    466\u001b[0m         e\u001b[39m.\u001b[39mpatch_message(msg)\n\u001b[0;32m--> 468\u001b[0m     error_rewrite(e, \u001b[39m'\u001b[39;49m\u001b[39mtyping\u001b[39;49m\u001b[39m'\u001b[39;49m)\n\u001b[1;32m    469\u001b[0m \u001b[39mexcept\u001b[39;00m errors\u001b[39m.\u001b[39mUnsupportedError \u001b[39mas\u001b[39;00m e:\n\u001b[1;32m    470\u001b[0m     \u001b[39m# Something unsupported is present in the user code, add help info\u001b[39;00m\n\u001b[1;32m    471\u001b[0m     error_rewrite(e, \u001b[39m'\u001b[39m\u001b[39munsupported_error\u001b[39m\u001b[39m'\u001b[39m)\n",
      "File \u001b[0;32m/opt/homebrew/Caskroom/mambaforge/base/envs/mcdc-env/lib/python3.11/site-packages/numba/core/dispatcher.py:409\u001b[0m, in \u001b[0;36m_DispatcherBase._compile_for_args.<locals>.error_rewrite\u001b[0;34m(e, issue_type)\u001b[0m\n\u001b[1;32m    407\u001b[0m     \u001b[39mraise\u001b[39;00m e\n\u001b[1;32m    408\u001b[0m \u001b[39melse\u001b[39;00m:\n\u001b[0;32m--> 409\u001b[0m     \u001b[39mraise\u001b[39;00m e\u001b[39m.\u001b[39mwith_traceback(\u001b[39mNone\u001b[39;00m)\n",
      "\u001b[0;31mTypingError\u001b[0m: Failed in nopython mode pipeline (step: nopython frontend)\n\u001b[1m\u001b[1mNo implementation of function Function(<built-in function iadd>) found for signature:\n \n >>> iadd(array(int16, 1d, C), float64)\n \nThere are 18 candidate implementations:\n\u001b[1m    - Of which 14 did not match due to:\n    Overload of function 'iadd': File: <numerous>: Line N/A.\n      With argument(s): '(array(int16, 1d, C), float64)':\u001b[0m\n\u001b[1m     No match.\u001b[0m\n\u001b[1m    - Of which 2 did not match due to:\n    Overload in function 'NumpyRulesInplaceArrayOperator.generic': File: numba/core/typing/npydecl.py: Line 243.\n      With argument(s): '(array(int16, 1d, C), float64)':\u001b[0m\n\u001b[1m     Rejected as the implementation raised a specific error:\n       AttributeError: 'NoneType' object has no attribute 'args'\u001b[0m\n  raised from /opt/homebrew/Caskroom/mambaforge/base/envs/mcdc-env/lib/python3.11/site-packages/numba/core/typing/npydecl.py:254\n\u001b[1m    - Of which 2 did not match due to:\n    Operator Overload in function 'iadd': File: unknown: Line unknown.\n      With argument(s): '(array(int16, 1d, C), float64)':\u001b[0m\n\u001b[1m     No match for registered cases:\n      * (int64, int64) -> int64\n      * (int64, uint64) -> int64\n      * (uint64, int64) -> int64\n      * (uint64, uint64) -> uint64\n      * (float32, float32) -> float32\n      * (float64, float64) -> float64\n      * (complex64, complex64) -> complex64\n      * (complex128, complex128) -> complex128\u001b[0m\n\u001b[0m\n\u001b[0m\u001b[1mDuring: typing of intrinsic-call at /var/folders/t_/2l4lwvkn537dkvrfy5xmkvc80000gn/T/ipykernel_95904/1520117414.py (8)\u001b[0m\n\u001b[1m\nFile \"../../../../var/folders/t_/2l4lwvkn537dkvrfy5xmkvc80000gn/T/ipykernel_95904/1520117414.py\", line 8:\u001b[0m\n\u001b[1m<source missing, REPL/exec in use?>\u001b[0m\n"
     ]
    }
   ],
   "source": [
    "numpy_array_in_float32 = np.random.random(100).astype(np.float64)\n",
    "numpy_array_in_float64 = np.random.random(100).astype(np.float32)\n",
    "out = np.zeros(1).astype(np.int16)\n",
    "\n",
    "@numba.jit(nopython=True) # issues with data types\n",
    "def gonna_error_2(numpy_array_in_float32, numpy_array_in_float64, out):\n",
    "    for i in range (numpy_array_in_float32.size):\n",
    "        out += numpy_array_in_float32[i] + numpy_array_in_float64[i]\n",
    "\n",
    "gonna_error_2(numpy_array_in_float32, numpy_array_in_float64, out)\n",
    "\n",
    "print(out.dtype)"
   ]
  },
  {
   "cell_type": "markdown",
   "id": "7857ff92",
   "metadata": {},
   "source": [
    "## Where it Doesn't Really Work\n",
    "* Using with non-supported packages (SciPy, Pandas, everything )\n",
    "* Speeding up already optimized functions\n",
    "* "
   ]
  },
  {
   "cell_type": "code",
   "execution_count": 70,
   "id": "b19ea9e4",
   "metadata": {},
   "outputs": [
    {
     "name": "stdout",
     "output_type": "stream",
     "text": [
      "Elapsed alone = 2.9532837867736816\n",
      "Elapsed (with compilation) = 2.9829630851745605\n"
     ]
    }
   ],
   "source": [
    "# Here we have a numpy function that is already optimized\n",
    "# jitting it won't do anything\n",
    "\n",
    "N: int = 10000\n",
    "A = np.random.random((N,N)).astype(np.float64)\n",
    "x = np.random.random(N).astype(np.float64)\n",
    "\n",
    "@numba.jit(nopython=True)\n",
    "def solve(A, x):\n",
    "    b = np.linalg.solve(A,x)\n",
    "    return(b)\n",
    "\n",
    "start = time.time()\n",
    "b = np.linalg.solve(A,x)\n",
    "end = time.time()\n",
    "print(\"Elapsed (no jit) = %s\" % (end - start))\n",
    "\n",
    "start = time.time()\n",
    "b = solve(A,x)\n",
    "end = time.time()\n",
    "print(\"Elapsed (jit) = %s\" % (end - start))\n",
    "\n"
   ]
  },
  {
   "cell_type": "markdown",
   "id": "ee0660e8",
   "metadata": {},
   "source": [
    "# MC/DC"
   ]
  },
  {
   "cell_type": "markdown",
   "id": "6976cea4",
   "metadata": {},
   "source": [
    "## Visualizing the outputs\n",
    "import matplotlib.pyplot as plt\n",
    "import h5py\n",
    "\n",
    "\n",
    "# Get results\n",
    "with h5py.File(\"output.h5\", \"r\") as f:\n",
    "    t = f[\"tally/grid/t\"][:]\n",
    "    dt = t[1:] - t[:-1]\n",
    "    t_mid = 0.5 * (t[1:] + t[:-1])\n",
    "    K = len(t) - 1\n",
    "\n",
    "    phi = f[\"tally/flux/mean\"][:]\n",
    "    phi_sd = f[\"tally/flux/sdev\"][:]\n",
    "\n",
    "    # Normalize\n",
    "    for k in range(K):\n",
    "        phi[k] /= dt[k]\n",
    "        phi_sd[k] /= dt[k]\n",
    "\n",
    "plt.plot(t_mid, phi)\n",
    "plt.yscale(\"log\")\n",
    "plt.show()"
   ]
  }
 ],
 "metadata": {
  "kernelspec": {
   "display_name": "Python 3 (ipykernel)",
   "language": "python",
   "name": "python3"
  },
  "language_info": {
   "codemirror_mode": {
    "name": "ipython",
    "version": 3
   },
   "file_extension": ".py",
   "mimetype": "text/x-python",
   "name": "python",
   "nbconvert_exporter": "python",
   "pygments_lexer": "ipython3",
   "version": "3.11.6"
  }
 },
 "nbformat": 4,
 "nbformat_minor": 5
}
